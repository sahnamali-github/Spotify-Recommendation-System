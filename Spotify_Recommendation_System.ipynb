{
  "nbformat": 4,
  "nbformat_minor": 0,
  "metadata": {
    "colab": {
      "provenance": []
    },
    "kernelspec": {
      "name": "python3",
      "display_name": "Python 3"
    },
    "language_info": {
      "name": "python"
    }
  },
  "cells": [
    {
      "cell_type": "code",
      "execution_count": null,
      "metadata": {
        "id": "s5k_mCBL6dDj"
      },
      "outputs": [],
      "source": [
        "import numpy as np\n",
        "import pandas as pd\n",
        "from sklearn.feature_extraction import text\n",
        "from sklearn.metrics.pairwise import cosine_similarity\n",
        "import plotly.express as px\n",
        "import plotly.graph_objects as go\n",
        "\n",
        "\n",
        "print(data.head())"
      ]
    },
    {
      "cell_type": "code",
      "source": [
        "# Types of News Categories\n",
        "categories = data[\"Spotify Category\"].value_counts()\n",
        "label = categories.index\n",
        "counts = categories.values\n",
        "figure = px.bar(data, x=label,\n",
        "                y = counts,\n",
        "            title=\"Types of Spotify Categories\")\n",
        "figure.show()"
      ],
      "metadata": {
        "id": "SC6-0_Se6jy7"
      },
      "execution_count": null,
      "outputs": []
    },
    {
      "cell_type": "code",
      "source": [
        "\n",
        "tfidf = text.TfidfVectorizer(input=feature, stop_words=\"english\")\n",
        "tfidf_matrix = tfidf.fit_transform(feature)\n",
        "similarity = cosine_similarity(tfidf_matrix)"
      ],
      "metadata": {
        "id": "tcp52Ql_6oR3"
      },
      "execution_count": null,
      "outputs": []
    },
    {
      "cell_type": "code",
      "source": [
        "def news_recommendation(Title, similarity = similarity):\n",
        "    index = indices[Title]\n",
        "    similarity_scores = list(enumerate(similarity[index]))\n",
        "    similarity_scores = sorted(similarity_scores,\n",
        "    key=lambda x: x[1], reverse=True)\n",
        "    similarity_scores = similarity_scores[0:10]\n",
        "    newsindices = [i[0] for i in similarity_scores]\n",
        "    return data['Title'].iloc[newsindices]\n",
        "\n",
        "print(news_recommendation(\"Walmart Slashes Prices on Last-Generation iPads\"))"
      ],
      "metadata": {
        "id": "3iLZp8XD6sta"
      },
      "execution_count": null,
      "outputs": []
    },
    {
      "cell_type": "code",
      "source": [],
      "metadata": {
        "id": "uqsTxhhG6vJ0"
      },
      "execution_count": null,
      "outputs": []
    }
  ]
}